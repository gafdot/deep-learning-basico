{
 "cells": [
  {
   "cell_type": "markdown",
   "id": "24c0e193-0680-406e-8b38-9147ee02e617",
   "metadata": {},
   "source": [
    "# Deep Learning básico\n",
    "O objetivo desse projeto é explorar alguns conceitos básicos do modelo de Deep Learning. Usaremos a base de dados iris para esse trabalho.\n",
    "## Criando o primeiro Perceptron"
   ]
  },
  {
   "cell_type": "code",
   "execution_count": 1,
   "id": "333931bc-2e62-4508-8de6-c5037aaeb970",
   "metadata": {},
   "outputs": [],
   "source": [
    "from tensorflow import keras"
   ]
  },
  {
   "cell_type": "code",
   "execution_count": 2,
   "id": "0889bf33-4249-4bf4-a640-df5e98272340",
   "metadata": {},
   "outputs": [
    {
     "data": {
      "text/plain": [
       "<keras.engine.sequential.Sequential at 0x12b27367ee0>"
      ]
     },
     "execution_count": 2,
     "metadata": {},
     "output_type": "execute_result"
    }
   ],
   "source": [
    "modelo = keras.Sequential([keras.layers.Dense(units=1,input_shape=[2],name='neuronio')])\n",
    "modelo"
   ]
  },
  {
   "cell_type": "code",
   "execution_count": 3,
   "id": "0c80c8d0-86c5-4dea-b8dd-fbcd5d524ce7",
   "metadata": {},
   "outputs": [
    {
     "name": "stdout",
     "output_type": "stream",
     "text": [
      "Model: \"sequential\"\n",
      "_________________________________________________________________\n",
      " Layer (type)                Output Shape              Param #   \n",
      "=================================================================\n",
      " neuronio (Dense)            (None, 1)                 3         \n",
      "                                                                 \n",
      "=================================================================\n",
      "Total params: 3\n",
      "Trainable params: 3\n",
      "Non-trainable params: 0\n",
      "_________________________________________________________________\n"
     ]
    }
   ],
   "source": [
    "modelo.summary()"
   ]
  },
  {
   "cell_type": "code",
   "execution_count": 4,
   "id": "20ba5fd6-b70b-4186-bb7f-ddffb289dd72",
   "metadata": {},
   "outputs": [
    {
     "data": {
      "image/png": "[encoded data removed]",
      "text/plain": [
       "<IPython.core.display.Image object>"
      ]
     },
     "execution_count": 4,
     "metadata": {},
     "output_type": "execute_result"
    }
   ],
   "source": [
    "keras.utils.plot_model(modelo,show_shapes=True)"
   ]
  },
  {
   "cell_type": "code",
   "execution_count": 5,
   "id": "2abd8161-e9af-481a-8173-761f5edb0ada",
   "metadata": {},
   "outputs": [
    {
     "data": {
      "text/plain": [
       "[<keras.layers.core.dense.Dense at 0x12b27367eb0>]"
      ]
     },
     "execution_count": 5,
     "metadata": {},
     "output_type": "execute_result"
    }
   ],
   "source": [
    "modelo.layers"
   ]
  },
  {
   "cell_type": "code",
   "execution_count": 6,
   "id": "31d37371-9f43-4331-91fc-fd5849b4d15b",
   "metadata": {},
   "outputs": [
    {
     "data": {
      "text/plain": [
       "[array([[-1.3573992 ],\n",
       "        [-0.41495663]], dtype=float32),\n",
       " array([0.], dtype=float32)]"
      ]
     },
     "execution_count": 6,
     "metadata": {},
     "output_type": "execute_result"
    }
   ],
   "source": [
    "modelo.layers[0].get_weights()"
   ]
  },
  {
   "cell_type": "code",
   "execution_count": 7,
   "id": "92ce9b17-025a-43e9-b34b-29b019941bb7",
   "metadata": {},
   "outputs": [
    {
     "name": "stdout",
     "output_type": "stream",
     "text": [
      "(2, 1)\n"
     ]
    },
    {
     "data": {
      "text/plain": [
       "array([[-1.3573992 ],\n",
       "       [-0.41495663]], dtype=float32)"
      ]
     },
     "execution_count": 7,
     "metadata": {},
     "output_type": "execute_result"
    }
   ],
   "source": [
    "pesos,bias = modelo.layers[0].get_weights()\n",
    "print(pesos.shape)\n",
    "pesos"
   ]
  },
  {
   "cell_type": "code",
   "execution_count": 8,
   "id": "5094204e-f460-43e5-ad1f-dd276fd7afd9",
   "metadata": {},
   "outputs": [
    {
     "name": "stdout",
     "output_type": "stream",
     "text": [
      "(1,)\n"
     ]
    },
    {
     "data": {
      "text/plain": [
       "array([0.], dtype=float32)"
      ]
     },
     "execution_count": 8,
     "metadata": {},
     "output_type": "execute_result"
    }
   ],
   "source": [
    "print(bias.shape)\n",
    "bias"
   ]
  },
  {
   "cell_type": "code",
   "execution_count": 9,
   "id": "efbb1d4f-8a28-40b7-9915-764103982883",
   "metadata": {},
   "outputs": [
    {
     "data": {
      "text/plain": [
       "[array([[ 0.01796887],\n",
       "        [-0.07078883]], dtype=float32),\n",
       " array([1.], dtype=float32)]"
      ]
     },
     "execution_count": 9,
     "metadata": {},
     "output_type": "execute_result"
    }
   ],
   "source": [
    "modelo = keras.Sequential([keras.layers.Dense(units=1,input_shape=[2],name='neuronio',\n",
    "                                              kernel_initializer = keras.initializers.RandomNormal(),\n",
    "                                              bias_initializer = keras.initializers.Ones())])\n",
    "modelo.layers[0].get_weights()"
   ]
  },
  {
   "cell_type": "markdown",
   "id": "ccc01508-93da-4da8-8b9d-4eebc05fc08d",
   "metadata": {},
   "source": [
    "## Importando os dados"
   ]
  },
  {
   "cell_type": "code",
   "execution_count": 10,
   "id": "8f320413-d966-4ac7-8a98-2818c23bfb7f",
   "metadata": {
    "scrolled": true
   },
   "outputs": [
    {
     "data": {
      "text/plain": [
       "array([[5.1, 3.5, 1.4, 0.2],\n",
       "       [4.9, 3. , 1.4, 0.2],\n",
       "       [4.7, 3.2, 1.3, 0.2],\n",
       "       [4.6, 3.1, 1.5, 0.2],\n",
       "       [5. , 3.6, 1.4, 0.2],\n",
       "       [5.4, 3.9, 1.7, 0.4],\n",
       "       [4.6, 3.4, 1.4, 0.3],\n",
       "       [5. , 3.4, 1.5, 0.2],\n",
       "       [4.4, 2.9, 1.4, 0.2],\n",
       "       [4.9, 3.1, 1.5, 0.1],\n",
       "       [5.4, 3.7, 1.5, 0.2],\n",
       "       [4.8, 3.4, 1.6, 0.2],\n",
       "       [4.8, 3. , 1.4, 0.1],\n",
       "       [4.3, 3. , 1.1, 0.1],\n",
       "       [5.8, 4. , 1.2, 0.2],\n",
       "       [5.7, 4.4, 1.5, 0.4],\n",
       "       [5.4, 3.9, 1.3, 0.4],\n",
       "       [5.1, 3.5, 1.4, 0.3],\n",
       "       [5.7, 3.8, 1.7, 0.3],\n",
       "       [5.1, 3.8, 1.5, 0.3],\n",
       "       [5.4, 3.4, 1.7, 0.2],\n",
       "       [5.1, 3.7, 1.5, 0.4],\n",
       "       [4.6, 3.6, 1. , 0.2],\n",
       "       [5.1, 3.3, 1.7, 0.5],\n",
       "       [4.8, 3.4, 1.9, 0.2],\n",
       "       [5. , 3. , 1.6, 0.2],\n",
       "       [5. , 3.4, 1.6, 0.4],\n",
       "       [5.2, 3.5, 1.5, 0.2],\n",
       "       [5.2, 3.4, 1.4, 0.2],\n",
       "       [4.7, 3.2, 1.6, 0.2],\n",
       "       [4.8, 3.1, 1.6, 0.2],\n",
       "       [5.4, 3.4, 1.5, 0.4],\n",
       "       [5.2, 4.1, 1.5, 0.1],\n",
       "       [5.5, 4.2, 1.4, 0.2],\n",
       "       [4.9, 3.1, 1.5, 0.2],\n",
       "       [5. , 3.2, 1.2, 0.2],\n",
       "       [5.5, 3.5, 1.3, 0.2],\n",
       "       [4.9, 3.6, 1.4, 0.1],\n",
       "       [4.4, 3. , 1.3, 0.2],\n",
       "       [5.1, 3.4, 1.5, 0.2],\n",
       "       [5. , 3.5, 1.3, 0.3],\n",
       "       [4.5, 2.3, 1.3, 0.3],\n",
       "       [4.4, 3.2, 1.3, 0.2],\n",
       "       [5. , 3.5, 1.6, 0.6],\n",
       "       [5.1, 3.8, 1.9, 0.4],\n",
       "       [4.8, 3. , 1.4, 0.3],\n",
       "       [5.1, 3.8, 1.6, 0.2],\n",
       "       [4.6, 3.2, 1.4, 0.2],\n",
       "       [5.3, 3.7, 1.5, 0.2],\n",
       "       [5. , 3.3, 1.4, 0.2],\n",
       "       [7. , 3.2, 4.7, 1.4],\n",
       "       [6.4, 3.2, 4.5, 1.5],\n",
       "       [6.9, 3.1, 4.9, 1.5],\n",
       "       [5.5, 2.3, 4. , 1.3],\n",
       "       [6.5, 2.8, 4.6, 1.5],\n",
       "       [5.7, 2.8, 4.5, 1.3],\n",
       "       [6.3, 3.3, 4.7, 1.6],\n",
       "       [4.9, 2.4, 3.3, 1. ],\n",
       "       [6.6, 2.9, 4.6, 1.3],\n",
       "       [5.2, 2.7, 3.9, 1.4],\n",
       "       [5. , 2. , 3.5, 1. ],\n",
       "       [5.9, 3. , 4.2, 1.5],\n",
       "       [6. , 2.2, 4. , 1. ],\n",
       "       [6.1, 2.9, 4.7, 1.4],\n",
       "       [5.6, 2.9, 3.6, 1.3],\n",
       "       [6.7, 3.1, 4.4, 1.4],\n",
       "       [5.6, 3. , 4.5, 1.5],\n",
       "       [5.8, 2.7, 4.1, 1. ],\n",
       "       [6.2, 2.2, 4.5, 1.5],\n",
       "       [5.6, 2.5, 3.9, 1.1],\n",
       "       [5.9, 3.2, 4.8, 1.8],\n",
       "       [6.1, 2.8, 4. , 1.3],\n",
       "       [6.3, 2.5, 4.9, 1.5],\n",
       "       [6.1, 2.8, 4.7, 1.2],\n",
       "       [6.4, 2.9, 4.3, 1.3],\n",
       "       [6.6, 3. , 4.4, 1.4],\n",
       "       [6.8, 2.8, 4.8, 1.4],\n",
       "       [6.7, 3. , 5. , 1.7],\n",
       "       [6. , 2.9, 4.5, 1.5],\n",
       "       [5.7, 2.6, 3.5, 1. ],\n",
       "       [5.5, 2.4, 3.8, 1.1],\n",
       "       [5.5, 2.4, 3.7, 1. ],\n",
       "       [5.8, 2.7, 3.9, 1.2],\n",
       "       [6. , 2.7, 5.1, 1.6],\n",
       "       [5.4, 3. , 4.5, 1.5],\n",
       "       [6. , 3.4, 4.5, 1.6],\n",
       "       [6.7, 3.1, 4.7, 1.5],\n",
       "       [6.3, 2.3, 4.4, 1.3],\n",
       "       [5.6, 3. , 4.1, 1.3],\n",
       "       [5.5, 2.5, 4. , 1.3],\n",
       "       [5.5, 2.6, 4.4, 1.2],\n",
       "       [6.1, 3. , 4.6, 1.4],\n",
       "       [5.8, 2.6, 4. , 1.2],\n",
       "       [5. , 2.3, 3.3, 1. ],\n",
       "       [5.6, 2.7, 4.2, 1.3],\n",
       "       [5.7, 3. , 4.2, 1.2],\n",
       "       [5.7, 2.9, 4.2, 1.3],\n",
       "       [6.2, 2.9, 4.3, 1.3],\n",
       "       [5.1, 2.5, 3. , 1.1],\n",
       "       [5.7, 2.8, 4.1, 1.3],\n",
       "       [6.3, 3.3, 6. , 2.5],\n",
       "       [5.8, 2.7, 5.1, 1.9],\n",
       "       [7.1, 3. , 5.9, 2.1],\n",
       "       [6.3, 2.9, 5.6, 1.8],\n",
       "       [6.5, 3. , 5.8, 2.2],\n",
       "       [7.6, 3. , 6.6, 2.1],\n",
       "       [4.9, 2.5, 4.5, 1.7],\n",
       "       [7.3, 2.9, 6.3, 1.8],\n",
       "       [6.7, 2.5, 5.8, 1.8],\n",
       "       [7.2, 3.6, 6.1, 2.5],\n",
       "       [6.5, 3.2, 5.1, 2. ],\n",
       "       [6.4, 2.7, 5.3, 1.9],\n",
       "       [6.8, 3. , 5.5, 2.1],\n",
       "       [5.7, 2.5, 5. , 2. ],\n",
       "       [5.8, 2.8, 5.1, 2.4],\n",
       "       [6.4, 3.2, 5.3, 2.3],\n",
       "       [6.5, 3. , 5.5, 1.8],\n",
       "       [7.7, 3.8, 6.7, 2.2],\n",
       "       [7.7, 2.6, 6.9, 2.3],\n",
       "       [6. , 2.2, 5. , 1.5],\n",
       "       [6.9, 3.2, 5.7, 2.3],\n",
       "       [5.6, 2.8, 4.9, 2. ],\n",
       "       [7.7, 2.8, 6.7, 2. ],\n",
       "       [6.3, 2.7, 4.9, 1.8],\n",
       "       [6.7, 3.3, 5.7, 2.1],\n",
       "       [7.2, 3.2, 6. , 1.8],\n",
       "       [6.2, 2.8, 4.8, 1.8],\n",
       "       [6.1, 3. , 4.9, 1.8],\n",
       "       [6.4, 2.8, 5.6, 2.1],\n",
       "       [7.2, 3. , 5.8, 1.6],\n",
       "       [7.4, 2.8, 6.1, 1.9],\n",
       "       [7.9, 3.8, 6.4, 2. ],\n",
       "       [6.4, 2.8, 5.6, 2.2],\n",
       "       [6.3, 2.8, 5.1, 1.5],\n",
       "       [6.1, 2.6, 5.6, 1.4],\n",
       "       [7.7, 3. , 6.1, 2.3],\n",
       "       [6.3, 3.4, 5.6, 2.4],\n",
       "       [6.4, 3.1, 5.5, 1.8],\n",
       "       [6. , 3. , 4.8, 1.8],\n",
       "       [6.9, 3.1, 5.4, 2.1],\n",
       "       [6.7, 3.1, 5.6, 2.4],\n",
       "       [6.9, 3.1, 5.1, 2.3],\n",
       "       [5.8, 2.7, 5.1, 1.9],\n",
       "       [6.8, 3.2, 5.9, 2.3],\n",
       "       [6.7, 3.3, 5.7, 2.5],\n",
       "       [6.7, 3. , 5.2, 2.3],\n",
       "       [6.3, 2.5, 5. , 1.9],\n",
       "       [6.5, 3. , 5.2, 2. ],\n",
       "       [6.2, 3.4, 5.4, 2.3],\n",
       "       [5.9, 3. , 5.1, 1.8]])"
      ]
     },
     "execution_count": 10,
     "metadata": {},
     "output_type": "execute_result"
    }
   ],
   "source": [
    "from sklearn import datasets\n",
    "\n",
    "iris = datasets.load_iris(return_X_y = True)\n",
    "x = iris[0]\n",
    "y = iris[1]\n",
    "x"
   ]
  },
  {
   "cell_type": "code",
   "execution_count": 11,
   "id": "1628b17e-c6fd-4f39-a6fe-d58b74507e00",
   "metadata": {},
   "outputs": [
    {
     "data": {
      "text/plain": [
       "['sepal length (cm)',\n",
       " 'sepal width (cm)',\n",
       " 'petal length (cm)',\n",
       " 'petal width (cm)']"
      ]
     },
     "execution_count": 11,
     "metadata": {},
     "output_type": "execute_result"
    }
   ],
   "source": [
    "datasets.load_iris()['feature_names']"
   ]
  },
  {
   "cell_type": "code",
   "execution_count": 13,
   "id": "00d763ce-7c15-4126-8474-7aad716aa80e",
   "metadata": {},
   "outputs": [
    {
     "data": {
      "text/plain": [
       "array([0, 0, 0, 0, 0, 0, 0, 0, 0, 0, 0, 0, 0, 0, 0, 0, 0, 0, 0, 0, 0, 0,\n",
       "       0, 0, 0, 0, 0, 0, 0, 0, 0, 0, 0, 0, 0, 0, 0, 0, 0, 0, 0, 0, 0, 0,\n",
       "       0, 0, 0, 0, 0, 0, 1, 1, 1, 1, 1, 1, 1, 1, 1, 1, 1, 1, 1, 1, 1, 1,\n",
       "       1, 1, 1, 1, 1, 1, 1, 1, 1, 1, 1, 1, 1, 1, 1, 1, 1, 1, 1, 1, 1, 1,\n",
       "       1, 1, 1, 1, 1, 1, 1, 1, 1, 1, 1, 1, 2, 2, 2, 2, 2, 2, 2, 2, 2, 2,\n",
       "       2, 2, 2, 2, 2, 2, 2, 2, 2, 2, 2, 2, 2, 2, 2, 2, 2, 2, 2, 2, 2, 2,\n",
       "       2, 2, 2, 2, 2, 2, 2, 2, 2, 2, 2, 2, 2, 2, 2, 2, 2, 2])"
      ]
     },
     "execution_count": 13,
     "metadata": {},
     "output_type": "execute_result"
    }
   ],
   "source": [
    "y"
   ]
  },
  {
   "cell_type": "code",
   "execution_count": 14,
   "id": "38cce60c-2ba7-4b79-bed5-ae633e82dc7d",
   "metadata": {},
   "outputs": [
    {
     "data": {
      "text/plain": [
       "array(['setosa', 'versicolor', 'virginica'], dtype='<U10')"
      ]
     },
     "execution_count": 14,
     "metadata": {},
     "output_type": "execute_result"
    }
   ],
   "source": [
    "datasets.load_iris()['target_names']"
   ]
  },
  {
   "cell_type": "code",
   "execution_count": 15,
   "id": "3cd9e14c-c5ef-494d-bf2f-8dba891b136d",
   "metadata": {},
   "outputs": [
    {
     "data": {
      "image/png": "[encoded data removed]",
      "text/plain": [
       "<Figure size 640x480 with 1 Axes>"
      ]
     },
     "metadata": {},
     "output_type": "display_data"
    }
   ],
   "source": [
    "import matplotlib.pyplot as plt\n",
    "import seaborn as sns\n",
    "\n",
    "sns.scatterplot(x=x[:,2],y=x[:,3],hue=y,palette='tab10')\n",
    "plt.xlabel('comprimento (cm)',fontsize =16)\n",
    "plt.ylabel('largura (cm)', fontsize=16)\n",
    "plt.title('Distribuição pétalas', fontsize = 18)\n",
    "plt.show()"
   ]
  },
  {
   "cell_type": "code",
   "execution_count": 16,
   "id": "6f17f79c-55a3-49ca-ba45-deedb5740223",
   "metadata": {},
   "outputs": [
    {
     "data": {
      "image/png": "[encoded data removed]",
      "text/plain": [
       "<Figure size 640x480 with 1 Axes>"
      ]
     },
     "metadata": {},
     "output_type": "display_data"
    }
   ],
   "source": [
    "sns.scatterplot(x = x[:,0], y = x[:,1], hue = y, palette = \"tab10\")\n",
    "plt.xlabel('comprimeto (cm)', fontsize = 16)\n",
    "plt.ylabel('largura (cm)', fontsize = 16)\n",
    "plt.title('Distribuição sépalas', fontsize = 18)\n",
    "plt.show()"
   ]
  },
  {
   "cell_type": "code",
   "execution_count": 17,
   "id": "6c294329-f291-47ff-a19c-0b044b1a3fc4",
   "metadata": {},
   "outputs": [
    {
     "data": {
      "text/plain": [
       "(150,)"
      ]
     },
     "execution_count": 17,
     "metadata": {},
     "output_type": "execute_result"
    }
   ],
   "source": [
    "y.shape"
   ]
  },
  {
   "cell_type": "code",
   "execution_count": 18,
   "id": "8d2fefc1-2271-484c-9fd6-0838fd90882b",
   "metadata": {},
   "outputs": [
    {
     "data": {
      "text/plain": [
       "(150, 3)"
      ]
     },
     "execution_count": 18,
     "metadata": {},
     "output_type": "execute_result"
    }
   ],
   "source": [
    "y = keras.utils.to_categorical(y)\n",
    "y.shape"
   ]
  },
  {
   "cell_type": "code",
   "execution_count": 19,
   "id": "49575b83-e62e-4461-8245-abdf88b85b90",
   "metadata": {
    "scrolled": true
   },
   "outputs": [
    {
     "data": {
      "text/plain": [
       "array([[1., 0., 0.],\n",
       "       [1., 0., 0.],\n",
       "       [1., 0., 0.],\n",
       "       [1., 0., 0.],\n",
       "       [1., 0., 0.],\n",
       "       [1., 0., 0.],\n",
       "       [1., 0., 0.],\n",
       "       [1., 0., 0.],\n",
       "       [1., 0., 0.],\n",
       "       [1., 0., 0.],\n",
       "       [1., 0., 0.],\n",
       "       [1., 0., 0.],\n",
       "       [1., 0., 0.],\n",
       "       [1., 0., 0.],\n",
       "       [1., 0., 0.],\n",
       "       [1., 0., 0.],\n",
       "       [1., 0., 0.],\n",
       "       [1., 0., 0.],\n",
       "       [1., 0., 0.],\n",
       "       [1., 0., 0.],\n",
       "       [1., 0., 0.],\n",
       "       [1., 0., 0.],\n",
       "       [1., 0., 0.],\n",
       "       [1., 0., 0.],\n",
       "       [1., 0., 0.],\n",
       "       [1., 0., 0.],\n",
       "       [1., 0., 0.],\n",
       "       [1., 0., 0.],\n",
       "       [1., 0., 0.],\n",
       "       [1., 0., 0.],\n",
       "       [1., 0., 0.],\n",
       "       [1., 0., 0.],\n",
       "       [1., 0., 0.],\n",
       "       [1., 0., 0.],\n",
       "       [1., 0., 0.],\n",
       "       [1., 0., 0.],\n",
       "       [1., 0., 0.],\n",
       "       [1., 0., 0.],\n",
       "       [1., 0., 0.],\n",
       "       [1., 0., 0.],\n",
       "       [1., 0., 0.],\n",
       "       [1., 0., 0.],\n",
       "       [1., 0., 0.],\n",
       "       [1., 0., 0.],\n",
       "       [1., 0., 0.],\n",
       "       [1., 0., 0.],\n",
       "       [1., 0., 0.],\n",
       "       [1., 0., 0.],\n",
       "       [1., 0., 0.],\n",
       "       [1., 0., 0.],\n",
       "       [0., 1., 0.],\n",
       "       [0., 1., 0.],\n",
       "       [0., 1., 0.],\n",
       "       [0., 1., 0.],\n",
       "       [0., 1., 0.],\n",
       "       [0., 1., 0.],\n",
       "       [0., 1., 0.],\n",
       "       [0., 1., 0.],\n",
       "       [0., 1., 0.],\n",
       "       [0., 1., 0.],\n",
       "       [0., 1., 0.],\n",
       "       [0., 1., 0.],\n",
       "       [0., 1., 0.],\n",
       "       [0., 1., 0.],\n",
       "       [0., 1., 0.],\n",
       "       [0., 1., 0.],\n",
       "       [0., 1., 0.],\n",
       "       [0., 1., 0.],\n",
       "       [0., 1., 0.],\n",
       "       [0., 1., 0.],\n",
       "       [0., 1., 0.],\n",
       "       [0., 1., 0.],\n",
       "       [0., 1., 0.],\n",
       "       [0., 1., 0.],\n",
       "       [0., 1., 0.],\n",
       "       [0., 1., 0.],\n",
       "       [0., 1., 0.],\n",
       "       [0., 1., 0.],\n",
       "       [0., 1., 0.],\n",
       "       [0., 1., 0.],\n",
       "       [0., 1., 0.],\n",
       "       [0., 1., 0.],\n",
       "       [0., 1., 0.],\n",
       "       [0., 1., 0.],\n",
       "       [0., 1., 0.],\n",
       "       [0., 1., 0.],\n",
       "       [0., 1., 0.],\n",
       "       [0., 1., 0.],\n",
       "       [0., 1., 0.],\n",
       "       [0., 1., 0.],\n",
       "       [0., 1., 0.],\n",
       "       [0., 1., 0.],\n",
       "       [0., 1., 0.],\n",
       "       [0., 1., 0.],\n",
       "       [0., 1., 0.],\n",
       "       [0., 1., 0.],\n",
       "       [0., 1., 0.],\n",
       "       [0., 1., 0.],\n",
       "       [0., 1., 0.],\n",
       "       [0., 1., 0.],\n",
       "       [0., 0., 1.],\n",
       "       [0., 0., 1.],\n",
       "       [0., 0., 1.],\n",
       "       [0., 0., 1.],\n",
       "       [0., 0., 1.],\n",
       "       [0., 0., 1.],\n",
       "       [0., 0., 1.],\n",
       "       [0., 0., 1.],\n",
       "       [0., 0., 1.],\n",
       "       [0., 0., 1.],\n",
       "       [0., 0., 1.],\n",
       "       [0., 0., 1.],\n",
       "       [0., 0., 1.],\n",
       "       [0., 0., 1.],\n",
       "       [0., 0., 1.],\n",
       "       [0., 0., 1.],\n",
       "       [0., 0., 1.],\n",
       "       [0., 0., 1.],\n",
       "       [0., 0., 1.],\n",
       "       [0., 0., 1.],\n",
       "       [0., 0., 1.],\n",
       "       [0., 0., 1.],\n",
       "       [0., 0., 1.],\n",
       "       [0., 0., 1.],\n",
       "       [0., 0., 1.],\n",
       "       [0., 0., 1.],\n",
       "       [0., 0., 1.],\n",
       "       [0., 0., 1.],\n",
       "       [0., 0., 1.],\n",
       "       [0., 0., 1.],\n",
       "       [0., 0., 1.],\n",
       "       [0., 0., 1.],\n",
       "       [0., 0., 1.],\n",
       "       [0., 0., 1.],\n",
       "       [0., 0., 1.],\n",
       "       [0., 0., 1.],\n",
       "       [0., 0., 1.],\n",
       "       [0., 0., 1.],\n",
       "       [0., 0., 1.],\n",
       "       [0., 0., 1.],\n",
       "       [0., 0., 1.],\n",
       "       [0., 0., 1.],\n",
       "       [0., 0., 1.],\n",
       "       [0., 0., 1.],\n",
       "       [0., 0., 1.],\n",
       "       [0., 0., 1.],\n",
       "       [0., 0., 1.],\n",
       "       [0., 0., 1.],\n",
       "       [0., 0., 1.],\n",
       "       [0., 0., 1.]], dtype=float32)"
      ]
     },
     "execution_count": 19,
     "metadata": {},
     "output_type": "execute_result"
    }
   ],
   "source": [
    "y"
   ]
  },
  {
   "cell_type": "code",
   "execution_count": 20,
   "id": "2a030342-f974-4a9b-a991-93c8b7336631",
   "metadata": {},
   "outputs": [],
   "source": [
    "from sklearn.preprocessing import MinMaxScaler\n",
    "\n",
    "scaler = MinMaxScaler()\n",
    "x = scaler.fit_transform(x)"
   ]
  },
  {
   "cell_type": "code",
   "execution_count": 21,
   "id": "09582321-dffa-449a-9326-20c230af5a0d",
   "metadata": {},
   "outputs": [],
   "source": [
    "from sklearn.model_selection import train_test_split\n",
    "\n",
    "x_treino, x_teste, y_treino, y_teste = train_test_split(x, y, test_size = 0.2, stratify = y, random_state=42)"
   ]
  },
  {
   "cell_type": "code",
   "execution_count": 22,
   "id": "df196bd9-1e70-4c8b-b644-8ca5db9c5786",
   "metadata": {},
   "outputs": [
    {
     "data": {
      "text/plain": [
       "(120, 4)"
      ]
     },
     "execution_count": 22,
     "metadata": {},
     "output_type": "execute_result"
    }
   ],
   "source": [
    "x_treino.shape"
   ]
  },
  {
   "cell_type": "code",
   "execution_count": 23,
   "id": "312fb93a-c353-47f4-a5ae-6c9ac3113a3a",
   "metadata": {},
   "outputs": [
    {
     "data": {
      "text/plain": [
       "(30, 4)"
      ]
     },
     "execution_count": 23,
     "metadata": {},
     "output_type": "execute_result"
    }
   ],
   "source": [
    "x_teste.shape"
   ]
  },
  {
   "cell_type": "markdown",
   "id": "ac2b57e0-706e-49ec-b927-fdae37387457",
   "metadata": {},
   "source": [
    "## Modelo de rede neural"
   ]
  },
  {
   "cell_type": "code",
   "execution_count": 24,
   "id": "d9739d8f-24aa-4ea4-b505-db28c998d9cf",
   "metadata": {},
   "outputs": [
    {
     "data": {
      "text/plain": [
       "<keras.engine.sequential.Sequential at 0x12b274d02e0>"
      ]
     },
     "execution_count": 24,
     "metadata": {},
     "output_type": "execute_result"
    }
   ],
   "source": [
    "modelo = keras.Sequential([keras.layers.InputLayer(input_shape=[4,],name='entrada'),\n",
    "                           keras.layers.Dense(512,activation='relu',name='oculta',\n",
    "                                              kernel_initializer=keras.initializers.RandomNormal(seed=142)),\n",
    "                           keras.layers.Dense(3,activation='softmax',name='saida')])\n",
    "modelo"
   ]
  },
  {
   "cell_type": "code",
   "execution_count": 25,
   "id": "5ae7c65a-435a-4153-be68-3d229f3044bb",
   "metadata": {},
   "outputs": [
    {
     "name": "stdout",
     "output_type": "stream",
     "text": [
      "Model: \"sequential_2\"\n",
      "_________________________________________________________________\n",
      " Layer (type)                Output Shape              Param #   \n",
      "=================================================================\n",
      " oculta (Dense)              (None, 512)               2560      \n",
      "                                                                 \n",
      " saida (Dense)               (None, 3)                 1539      \n",
      "                                                                 \n",
      "=================================================================\n",
      "Total params: 4,099\n",
      "Trainable params: 4,099\n",
      "Non-trainable params: 0\n",
      "_________________________________________________________________\n"
     ]
    }
   ],
   "source": [
    "modelo.summary()"
   ]
  },
  {
   "cell_type": "code",
   "execution_count": 26,
   "id": "2af15e4e-c975-4098-b8ff-068d225bb1f5",
   "metadata": {},
   "outputs": [],
   "source": [
    "modelo.compile(loss = 'categorical_crossentropy',\n",
    "               optimizer = 'rmsprop',\n",
    "               metrics = ['categorical_accuracy'])"
   ]
  },
  {
   "cell_type": "code",
   "execution_count": 27,
   "id": "8d02710e-fb07-4c4f-992e-56d4d464d03f",
   "metadata": {
    "scrolled": true
   },
   "outputs": [
    {
     "name": "stdout",
     "output_type": "stream",
     "text": [
      "Epoch 1/100\n",
      "3/3 [==============================] - 2s 122ms/step - loss: 1.0672 - categorical_accuracy: 0.6190 - val_loss: 1.0110 - val_categorical_accuracy: 0.6389\n",
      "Epoch 2/100\n",
      "3/3 [==============================] - 0s 37ms/step - loss: 0.9943 - categorical_accuracy: 0.6786 - val_loss: 0.9684 - val_categorical_accuracy: 0.6389\n",
      "Epoch 3/100\n",
      "3/3 [==============================] - 0s 23ms/step - loss: 0.9455 - categorical_accuracy: 0.6786 - val_loss: 0.9313 - val_categorical_accuracy: 0.6389\n",
      "Epoch 4/100\n",
      "3/3 [==============================] - 0s 26ms/step - loss: 0.9129 - categorical_accuracy: 0.6786 - val_loss: 0.8990 - val_categorical_accuracy: 0.6389\n",
      "Epoch 5/100\n",
      "3/3 [==============================] - 0s 31ms/step - loss: 0.8727 - categorical_accuracy: 0.6786 - val_loss: 0.8693 - val_categorical_accuracy: 0.6389\n",
      "Epoch 6/100\n",
      "3/3 [==============================] - 0s 27ms/step - loss: 0.8355 - categorical_accuracy: 0.6786 - val_loss: 0.8383 - val_categorical_accuracy: 0.6389\n",
      "Epoch 7/100\n",
      "3/3 [==============================] - 0s 18ms/step - loss: 0.8016 - categorical_accuracy: 0.6786 - val_loss: 0.8085 - val_categorical_accuracy: 0.6389\n",
      "Epoch 8/100\n",
      "3/3 [==============================] - 0s 24ms/step - loss: 0.7706 - categorical_accuracy: 0.6786 - val_loss: 0.7795 - val_categorical_accuracy: 0.6389\n",
      "Epoch 9/100\n",
      "3/3 [==============================] - 0s 23ms/step - loss: 0.7397 - categorical_accuracy: 0.6786 - val_loss: 0.7535 - val_categorical_accuracy: 0.6389\n",
      "Epoch 10/100\n",
      "3/3 [==============================] - 0s 23ms/step - loss: 0.7167 - categorical_accuracy: 0.6786 - val_loss: 0.7317 - val_categorical_accuracy: 0.6389\n",
      "Epoch 11/100\n",
      "3/3 [==============================] - 0s 23ms/step - loss: 0.6903 - categorical_accuracy: 0.6786 - val_loss: 0.7093 - val_categorical_accuracy: 0.6389\n",
      "Epoch 12/100\n",
      "3/3 [==============================] - 0s 21ms/step - loss: 0.6625 - categorical_accuracy: 0.6786 - val_loss: 0.6887 - val_categorical_accuracy: 0.6389\n",
      "Epoch 13/100\n",
      "3/3 [==============================] - 0s 22ms/step - loss: 0.6416 - categorical_accuracy: 0.6786 - val_loss: 0.6688 - val_categorical_accuracy: 0.6389\n",
      "Epoch 14/100\n",
      "3/3 [==============================] - 0s 20ms/step - loss: 0.6227 - categorical_accuracy: 0.6786 - val_loss: 0.6484 - val_categorical_accuracy: 0.6389\n",
      "Epoch 15/100\n",
      "3/3 [==============================] - 0s 21ms/step - loss: 0.5990 - categorical_accuracy: 0.6786 - val_loss: 0.6281 - val_categorical_accuracy: 0.6389\n",
      "Epoch 16/100\n",
      "3/3 [==============================] - 0s 18ms/step - loss: 0.5794 - categorical_accuracy: 0.6786 - val_loss: 0.6098 - val_categorical_accuracy: 0.6389\n",
      "Epoch 17/100\n",
      "3/3 [==============================] - 0s 19ms/step - loss: 0.5647 - categorical_accuracy: 0.6786 - val_loss: 0.5927 - val_categorical_accuracy: 0.6389\n",
      "Epoch 18/100\n",
      "3/3 [==============================] - 0s 18ms/step - loss: 0.5467 - categorical_accuracy: 0.6905 - val_loss: 0.5798 - val_categorical_accuracy: 0.6389\n",
      "Epoch 19/100\n",
      "3/3 [==============================] - 0s 20ms/step - loss: 0.5301 - categorical_accuracy: 0.6786 - val_loss: 0.5616 - val_categorical_accuracy: 0.6667\n",
      "Epoch 20/100\n",
      "3/3 [==============================] - 0s 23ms/step - loss: 0.5172 - categorical_accuracy: 0.7024 - val_loss: 0.5452 - val_categorical_accuracy: 0.6944\n",
      "Epoch 21/100\n",
      "3/3 [==============================] - 0s 17ms/step - loss: 0.5039 - categorical_accuracy: 0.8095 - val_loss: 0.5351 - val_categorical_accuracy: 0.6667\n",
      "Epoch 22/100\n",
      "3/3 [==============================] - 0s 32ms/step - loss: 0.4906 - categorical_accuracy: 0.7619 - val_loss: 0.5245 - val_categorical_accuracy: 0.6667\n",
      "Epoch 23/100\n",
      "3/3 [==============================] - 0s 20ms/step - loss: 0.4781 - categorical_accuracy: 0.7262 - val_loss: 0.5097 - val_categorical_accuracy: 0.6944\n",
      "Epoch 24/100\n",
      "3/3 [==============================] - 0s 20ms/step - loss: 0.4674 - categorical_accuracy: 0.7619 - val_loss: 0.4990 - val_categorical_accuracy: 0.6944\n",
      "Epoch 25/100\n",
      "3/3 [==============================] - 0s 23ms/step - loss: 0.4550 - categorical_accuracy: 0.7857 - val_loss: 0.4862 - val_categorical_accuracy: 0.7778\n",
      "Epoch 26/100\n",
      "3/3 [==============================] - 0s 19ms/step - loss: 0.4459 - categorical_accuracy: 0.8095 - val_loss: 0.4758 - val_categorical_accuracy: 0.7778\n",
      "Epoch 27/100\n",
      "3/3 [==============================] - 0s 19ms/step - loss: 0.4358 - categorical_accuracy: 0.8690 - val_loss: 0.4690 - val_categorical_accuracy: 0.7222\n",
      "Epoch 28/100\n",
      "3/3 [==============================] - 0s 22ms/step - loss: 0.4252 - categorical_accuracy: 0.8095 - val_loss: 0.4552 - val_categorical_accuracy: 0.8056\n",
      "Epoch 29/100\n",
      "3/3 [==============================] - 0s 21ms/step - loss: 0.4154 - categorical_accuracy: 0.8571 - val_loss: 0.4476 - val_categorical_accuracy: 0.7778\n",
      "Epoch 30/100\n",
      "3/3 [==============================] - 0s 21ms/step - loss: 0.4060 - categorical_accuracy: 0.8452 - val_loss: 0.4330 - val_categorical_accuracy: 0.9167\n",
      "Epoch 31/100\n",
      "3/3 [==============================] - 0s 24ms/step - loss: 0.4022 - categorical_accuracy: 0.9167 - val_loss: 0.4282 - val_categorical_accuracy: 0.8333\n",
      "Epoch 32/100\n",
      "3/3 [==============================] - 0s 25ms/step - loss: 0.3895 - categorical_accuracy: 0.8810 - val_loss: 0.4193 - val_categorical_accuracy: 0.8333\n",
      "Epoch 33/100\n",
      "3/3 [==============================] - 0s 21ms/step - loss: 0.3902 - categorical_accuracy: 0.8095 - val_loss: 0.4071 - val_categorical_accuracy: 0.9167\n",
      "Epoch 34/100\n",
      "3/3 [==============================] - 0s 22ms/step - loss: 0.3738 - categorical_accuracy: 0.9286 - val_loss: 0.3996 - val_categorical_accuracy: 0.9167\n",
      "Epoch 35/100\n",
      "3/3 [==============================] - 0s 24ms/step - loss: 0.3670 - categorical_accuracy: 0.9048 - val_loss: 0.3910 - val_categorical_accuracy: 0.9722\n",
      "Epoch 36/100\n",
      "3/3 [==============================] - 0s 78ms/step - loss: 0.3637 - categorical_accuracy: 0.9048 - val_loss: 0.3834 - val_categorical_accuracy: 0.9167\n",
      "Epoch 37/100\n",
      "3/3 [==============================] - 0s 23ms/step - loss: 0.3525 - categorical_accuracy: 0.9167 - val_loss: 0.3775 - val_categorical_accuracy: 0.9167\n",
      "Epoch 38/100\n",
      "3/3 [==============================] - 0s 14ms/step - loss: 0.3460 - categorical_accuracy: 0.9167 - val_loss: 0.3679 - val_categorical_accuracy: 0.9167\n",
      "Epoch 39/100\n",
      "3/3 [==============================] - 0s 15ms/step - loss: 0.3503 - categorical_accuracy: 0.9167 - val_loss: 0.3610 - val_categorical_accuracy: 0.9722\n",
      "Epoch 40/100\n",
      "3/3 [==============================] - 0s 15ms/step - loss: 0.3325 - categorical_accuracy: 0.9167 - val_loss: 0.3545 - val_categorical_accuracy: 0.9722\n",
      "Epoch 41/100\n",
      "3/3 [==============================] - 0s 15ms/step - loss: 0.3281 - categorical_accuracy: 0.9048 - val_loss: 0.3479 - val_categorical_accuracy: 0.9722\n",
      "Epoch 42/100\n",
      "3/3 [==============================] - 0s 15ms/step - loss: 0.3235 - categorical_accuracy: 0.9286 - val_loss: 0.3419 - val_categorical_accuracy: 0.9722\n",
      "Epoch 43/100\n",
      "3/3 [==============================] - 0s 15ms/step - loss: 0.3169 - categorical_accuracy: 0.9167 - val_loss: 0.3355 - val_categorical_accuracy: 0.9167\n",
      "Epoch 44/100\n",
      "3/3 [==============================] - 0s 14ms/step - loss: 0.3093 - categorical_accuracy: 0.9286 - val_loss: 0.3296 - val_categorical_accuracy: 0.9167\n",
      "Epoch 45/100\n",
      "3/3 [==============================] - 0s 15ms/step - loss: 0.3129 - categorical_accuracy: 0.9405 - val_loss: 0.3312 - val_categorical_accuracy: 0.9167\n",
      "Epoch 46/100\n",
      "3/3 [==============================] - 0s 15ms/step - loss: 0.3000 - categorical_accuracy: 0.9048 - val_loss: 0.3172 - val_categorical_accuracy: 0.9722\n",
      "Epoch 47/100\n",
      "3/3 [==============================] - 0s 15ms/step - loss: 0.2954 - categorical_accuracy: 0.9167 - val_loss: 0.3123 - val_categorical_accuracy: 0.9722\n",
      "Epoch 48/100\n",
      "3/3 [==============================] - 0s 15ms/step - loss: 0.2876 - categorical_accuracy: 0.9167 - val_loss: 0.3090 - val_categorical_accuracy: 0.9167\n",
      "Epoch 49/100\n",
      "3/3 [==============================] - 0s 14ms/step - loss: 0.2820 - categorical_accuracy: 0.9167 - val_loss: 0.3002 - val_categorical_accuracy: 0.9722\n",
      "Epoch 50/100\n",
      "3/3 [==============================] - 0s 15ms/step - loss: 0.2768 - categorical_accuracy: 0.9405 - val_loss: 0.2991 - val_categorical_accuracy: 0.9167\n",
      "Epoch 51/100\n",
      "3/3 [==============================] - 0s 15ms/step - loss: 0.2775 - categorical_accuracy: 0.9167 - val_loss: 0.2993 - val_categorical_accuracy: 0.9167\n",
      "Epoch 52/100\n",
      "3/3 [==============================] - 0s 15ms/step - loss: 0.2716 - categorical_accuracy: 0.9167 - val_loss: 0.2841 - val_categorical_accuracy: 0.9722\n",
      "Epoch 53/100\n",
      "3/3 [==============================] - 0s 16ms/step - loss: 0.2632 - categorical_accuracy: 0.9524 - val_loss: 0.2782 - val_categorical_accuracy: 0.9722\n",
      "Epoch 54/100\n",
      "3/3 [==============================] - 0s 15ms/step - loss: 0.2589 - categorical_accuracy: 0.9405 - val_loss: 0.2726 - val_categorical_accuracy: 0.9722\n",
      "Epoch 55/100\n",
      "3/3 [==============================] - 0s 14ms/step - loss: 0.2537 - categorical_accuracy: 0.9524 - val_loss: 0.2679 - val_categorical_accuracy: 0.9722\n",
      "Epoch 56/100\n",
      "3/3 [==============================] - 0s 15ms/step - loss: 0.2506 - categorical_accuracy: 0.9524 - val_loss: 0.2657 - val_categorical_accuracy: 0.9722\n",
      "Epoch 57/100\n",
      "3/3 [==============================] - 0s 15ms/step - loss: 0.2506 - categorical_accuracy: 0.9048 - val_loss: 0.2575 - val_categorical_accuracy: 0.9722\n",
      "Epoch 58/100\n",
      "3/3 [==============================] - 0s 14ms/step - loss: 0.2478 - categorical_accuracy: 0.9405 - val_loss: 0.2559 - val_categorical_accuracy: 0.9722\n",
      "Epoch 59/100\n",
      "3/3 [==============================] - 0s 15ms/step - loss: 0.2422 - categorical_accuracy: 0.9048 - val_loss: 0.2541 - val_categorical_accuracy: 0.9722\n",
      "Epoch 60/100\n",
      "3/3 [==============================] - 0s 15ms/step - loss: 0.2352 - categorical_accuracy: 0.9167 - val_loss: 0.2453 - val_categorical_accuracy: 0.9722\n",
      "Epoch 61/100\n",
      "3/3 [==============================] - 0s 14ms/step - loss: 0.2296 - categorical_accuracy: 0.9524 - val_loss: 0.2453 - val_categorical_accuracy: 0.9722\n",
      "Epoch 62/100\n",
      "3/3 [==============================] - 0s 15ms/step - loss: 0.2337 - categorical_accuracy: 0.9405 - val_loss: 0.2502 - val_categorical_accuracy: 0.9167\n",
      "Epoch 63/100\n",
      "3/3 [==============================] - 0s 15ms/step - loss: 0.2303 - categorical_accuracy: 0.9286 - val_loss: 0.2354 - val_categorical_accuracy: 0.9722\n",
      "Epoch 64/100\n",
      "3/3 [==============================] - 0s 14ms/step - loss: 0.2215 - categorical_accuracy: 0.9643 - val_loss: 0.2338 - val_categorical_accuracy: 0.9722\n",
      "Epoch 65/100\n",
      "3/3 [==============================] - 0s 15ms/step - loss: 0.2209 - categorical_accuracy: 0.9167 - val_loss: 0.2308 - val_categorical_accuracy: 0.9722\n",
      "Epoch 66/100\n",
      "3/3 [==============================] - 0s 15ms/step - loss: 0.2175 - categorical_accuracy: 0.9286 - val_loss: 0.2251 - val_categorical_accuracy: 0.9722\n",
      "Epoch 67/100\n",
      "3/3 [==============================] - 0s 14ms/step - loss: 0.2163 - categorical_accuracy: 0.9286 - val_loss: 0.2217 - val_categorical_accuracy: 0.9722\n",
      "Epoch 68/100\n",
      "3/3 [==============================] - 0s 15ms/step - loss: 0.2127 - categorical_accuracy: 0.9286 - val_loss: 0.2201 - val_categorical_accuracy: 0.9722\n",
      "Epoch 69/100\n",
      "3/3 [==============================] - 0s 14ms/step - loss: 0.2068 - categorical_accuracy: 0.9643 - val_loss: 0.2158 - val_categorical_accuracy: 1.0000\n",
      "Epoch 70/100\n",
      "3/3 [==============================] - 0s 14ms/step - loss: 0.2047 - categorical_accuracy: 0.9405 - val_loss: 0.2122 - val_categorical_accuracy: 1.0000\n",
      "Epoch 71/100\n",
      "3/3 [==============================] - 0s 15ms/step - loss: 0.2010 - categorical_accuracy: 0.9405 - val_loss: 0.2120 - val_categorical_accuracy: 0.9444\n",
      "Epoch 72/100\n",
      "3/3 [==============================] - 0s 15ms/step - loss: 0.1982 - categorical_accuracy: 0.9643 - val_loss: 0.2063 - val_categorical_accuracy: 1.0000\n",
      "Epoch 73/100\n",
      "3/3 [==============================] - 0s 15ms/step - loss: 0.1941 - categorical_accuracy: 0.9405 - val_loss: 0.2032 - val_categorical_accuracy: 0.9722\n",
      "Epoch 74/100\n",
      "3/3 [==============================] - 0s 16ms/step - loss: 0.1911 - categorical_accuracy: 0.9643 - val_loss: 0.2006 - val_categorical_accuracy: 0.9722\n",
      "Epoch 75/100\n",
      "3/3 [==============================] - 0s 14ms/step - loss: 0.1890 - categorical_accuracy: 0.9524 - val_loss: 0.1947 - val_categorical_accuracy: 1.0000\n",
      "Epoch 76/100\n",
      "3/3 [==============================] - 0s 17ms/step - loss: 0.1938 - categorical_accuracy: 0.9405 - val_loss: 0.1913 - val_categorical_accuracy: 0.9722\n",
      "Epoch 77/100\n",
      "3/3 [==============================] - 0s 16ms/step - loss: 0.1846 - categorical_accuracy: 0.9405 - val_loss: 0.1875 - val_categorical_accuracy: 0.9722\n",
      "Epoch 78/100\n",
      "3/3 [==============================] - 0s 15ms/step - loss: 0.1804 - categorical_accuracy: 0.9524 - val_loss: 0.1852 - val_categorical_accuracy: 0.9722\n",
      "Epoch 79/100\n",
      "3/3 [==============================] - 0s 16ms/step - loss: 0.1817 - categorical_accuracy: 0.9524 - val_loss: 0.1826 - val_categorical_accuracy: 1.0000\n",
      "Epoch 80/100\n",
      "3/3 [==============================] - 0s 16ms/step - loss: 0.1744 - categorical_accuracy: 0.9524 - val_loss: 0.1804 - val_categorical_accuracy: 0.9722\n",
      "Epoch 81/100\n",
      "3/3 [==============================] - 0s 16ms/step - loss: 0.1718 - categorical_accuracy: 0.9405 - val_loss: 0.1767 - val_categorical_accuracy: 1.0000\n",
      "Epoch 82/100\n",
      "3/3 [==============================] - 0s 17ms/step - loss: 0.1730 - categorical_accuracy: 0.9405 - val_loss: 0.1780 - val_categorical_accuracy: 0.9722\n",
      "Epoch 83/100\n",
      "3/3 [==============================] - 0s 15ms/step - loss: 0.1828 - categorical_accuracy: 0.9286 - val_loss: 0.1700 - val_categorical_accuracy: 0.9722\n",
      "Epoch 84/100\n",
      "3/3 [==============================] - 0s 15ms/step - loss: 0.1666 - categorical_accuracy: 0.9643 - val_loss: 0.1715 - val_categorical_accuracy: 0.9722\n",
      "Epoch 85/100\n",
      "3/3 [==============================] - 0s 16ms/step - loss: 0.1657 - categorical_accuracy: 0.9405 - val_loss: 0.1655 - val_categorical_accuracy: 0.9722\n",
      "Epoch 86/100\n",
      "3/3 [==============================] - 0s 15ms/step - loss: 0.1813 - categorical_accuracy: 0.9405 - val_loss: 0.1641 - val_categorical_accuracy: 0.9722\n",
      "Epoch 87/100\n",
      "3/3 [==============================] - 0s 14ms/step - loss: 0.1605 - categorical_accuracy: 0.9524 - val_loss: 0.1640 - val_categorical_accuracy: 0.9722\n",
      "Epoch 88/100\n",
      "3/3 [==============================] - 0s 15ms/step - loss: 0.1600 - categorical_accuracy: 0.9405 - val_loss: 0.1615 - val_categorical_accuracy: 0.9722\n",
      "Epoch 89/100\n",
      "3/3 [==============================] - 0s 15ms/step - loss: 0.1629 - categorical_accuracy: 0.9524 - val_loss: 0.1597 - val_categorical_accuracy: 1.0000\n",
      "Epoch 90/100\n",
      "3/3 [==============================] - 0s 16ms/step - loss: 0.1566 - categorical_accuracy: 0.9524 - val_loss: 0.1567 - val_categorical_accuracy: 0.9722\n",
      "Epoch 91/100\n",
      "3/3 [==============================] - 0s 16ms/step - loss: 0.1548 - categorical_accuracy: 0.9405 - val_loss: 0.1548 - val_categorical_accuracy: 0.9722\n",
      "Epoch 92/100\n",
      "3/3 [==============================] - 0s 16ms/step - loss: 0.1543 - categorical_accuracy: 0.9524 - val_loss: 0.1529 - val_categorical_accuracy: 0.9722\n",
      "Epoch 93/100\n",
      "3/3 [==============================] - 0s 15ms/step - loss: 0.1567 - categorical_accuracy: 0.9405 - val_loss: 0.1536 - val_categorical_accuracy: 0.9722\n",
      "Epoch 94/100\n",
      "3/3 [==============================] - 0s 22ms/step - loss: 0.1507 - categorical_accuracy: 0.9524 - val_loss: 0.1499 - val_categorical_accuracy: 1.0000\n",
      "Epoch 95/100\n",
      "3/3 [==============================] - 0s 17ms/step - loss: 0.1506 - categorical_accuracy: 0.9524 - val_loss: 0.1483 - val_categorical_accuracy: 1.0000\n",
      "Epoch 96/100\n",
      "3/3 [==============================] - 0s 16ms/step - loss: 0.1504 - categorical_accuracy: 0.9643 - val_loss: 0.1468 - val_categorical_accuracy: 1.0000\n",
      "Epoch 97/100\n",
      "3/3 [==============================] - 0s 16ms/step - loss: 0.1487 - categorical_accuracy: 0.9524 - val_loss: 0.1439 - val_categorical_accuracy: 0.9722\n",
      "Epoch 98/100\n",
      "3/3 [==============================] - 0s 15ms/step - loss: 0.1438 - categorical_accuracy: 0.9405 - val_loss: 0.1412 - val_categorical_accuracy: 0.9722\n",
      "Epoch 99/100\n",
      "3/3 [==============================] - 0s 15ms/step - loss: 0.1416 - categorical_accuracy: 0.9524 - val_loss: 0.1444 - val_categorical_accuracy: 0.9722\n",
      "Epoch 100/100\n",
      "3/3 [==============================] - 0s 14ms/step - loss: 0.1413 - categorical_accuracy: 0.9762 - val_loss: 0.1419 - val_categorical_accuracy: 1.0000\n"
     ]
    }
   ],
   "source": [
    "epocas=100\n",
    "historico = modelo.fit(x_treino,y_treino,\n",
    "           epochs=epocas,\n",
    "           validation_split=0.3)"
   ]
  },
  {
   "cell_type": "code",
   "execution_count": 28,
   "id": "1e1e5073-d624-4cf0-8cc6-918cb15f74bc",
   "metadata": {
    "collapsed": true,
    "jupyter": {
     "outputs_hidden": true
    },
    "tags": []
   },
   "outputs": [
    {
     "data": {
      "text/plain": [
       "{'loss': [1.0672264099121094,\n",
       "  0.9942814111709595,\n",
       "  0.9454992413520813,\n",
       "  0.9128535985946655,\n",
       "  0.8727051019668579,\n",
       "  0.8354660272598267,\n",
       "  0.8015750050544739,\n",
       "  0.7705978155136108,\n",
       "  0.7397259473800659,\n",
       "  0.7167474627494812,\n",
       "  0.6902663707733154,\n",
       "  0.662516176700592,\n",
       "  0.6415916681289673,\n",
       "  0.6227496862411499,\n",
       "  0.5990251898765564,\n",
       "  0.5793894529342651,\n",
       "  0.5647442936897278,\n",
       "  0.5467315912246704,\n",
       "  0.5301095843315125,\n",
       "  0.5172352194786072,\n",
       "  0.5039048194885254,\n",
       "  0.49061331152915955,\n",
       "  0.47809478640556335,\n",
       "  0.4673670828342438,\n",
       "  0.4549654424190521,\n",
       "  0.4459429383277893,\n",
       "  0.435752272605896,\n",
       "  0.4252335727214813,\n",
       "  0.415374755859375,\n",
       "  0.4059707224369049,\n",
       "  0.40217122435569763,\n",
       "  0.3894772231578827,\n",
       "  0.39022326469421387,\n",
       "  0.37381353974342346,\n",
       "  0.36696115136146545,\n",
       "  0.36368274688720703,\n",
       "  0.35246071219444275,\n",
       "  0.3460347056388855,\n",
       "  0.3502611219882965,\n",
       "  0.33247286081314087,\n",
       "  0.32805556058883667,\n",
       "  0.32353174686431885,\n",
       "  0.31693196296691895,\n",
       "  0.3093181252479553,\n",
       "  0.3129143714904785,\n",
       "  0.2999872863292694,\n",
       "  0.29540225863456726,\n",
       "  0.28758230805397034,\n",
       "  0.2819956839084625,\n",
       "  0.2767632007598877,\n",
       "  0.27754947543144226,\n",
       "  0.27156224846839905,\n",
       "  0.2632310092449188,\n",
       "  0.25885915756225586,\n",
       "  0.2536861002445221,\n",
       "  0.25061479210853577,\n",
       "  0.2506132125854492,\n",
       "  0.2478019893169403,\n",
       "  0.2421712875366211,\n",
       "  0.23520851135253906,\n",
       "  0.22960135340690613,\n",
       "  0.23371736705303192,\n",
       "  0.23032987117767334,\n",
       "  0.2214624285697937,\n",
       "  0.22093307971954346,\n",
       "  0.21748928725719452,\n",
       "  0.21627265214920044,\n",
       "  0.21273617446422577,\n",
       "  0.20684464275836945,\n",
       "  0.20470087230205536,\n",
       "  0.20101797580718994,\n",
       "  0.19819684326648712,\n",
       "  0.19406554102897644,\n",
       "  0.19108597934246063,\n",
       "  0.18899677693843842,\n",
       "  0.19384682178497314,\n",
       "  0.1845616102218628,\n",
       "  0.18039998412132263,\n",
       "  0.18166491389274597,\n",
       "  0.17439217865467072,\n",
       "  0.1717609465122223,\n",
       "  0.17298951745033264,\n",
       "  0.18278343975543976,\n",
       "  0.16656148433685303,\n",
       "  0.16566936671733856,\n",
       "  0.18133220076560974,\n",
       "  0.16051098704338074,\n",
       "  0.16003325581550598,\n",
       "  0.1628955602645874,\n",
       "  0.15659281611442566,\n",
       "  0.15475845336914062,\n",
       "  0.1542607992887497,\n",
       "  0.15666353702545166,\n",
       "  0.1507420837879181,\n",
       "  0.15057668089866638,\n",
       "  0.15035197138786316,\n",
       "  0.14866316318511963,\n",
       "  0.14380189776420593,\n",
       "  0.14159107208251953,\n",
       "  0.1412821114063263],\n",
       " 'categorical_accuracy': [0.6190476417541504,\n",
       "  0.6785714030265808,\n",
       "  0.6785714030265808,\n",
       "  0.6785714030265808,\n",
       "  0.6785714030265808,\n",
       "  0.6785714030265808,\n",
       "  0.6785714030265808,\n",
       "  0.6785714030265808,\n",
       "  0.6785714030265808,\n",
       "  0.6785714030265808,\n",
       "  0.6785714030265808,\n",
       "  0.6785714030265808,\n",
       "  0.6785714030265808,\n",
       "  0.6785714030265808,\n",
       "  0.6785714030265808,\n",
       "  0.6785714030265808,\n",
       "  0.6785714030265808,\n",
       "  0.6904761791229248,\n",
       "  0.6785714030265808,\n",
       "  0.7023809552192688,\n",
       "  0.8095238208770752,\n",
       "  0.761904776096344,\n",
       "  0.726190447807312,\n",
       "  0.761904776096344,\n",
       "  0.7857142686843872,\n",
       "  0.8095238208770752,\n",
       "  0.8690476417541504,\n",
       "  0.8095238208770752,\n",
       "  0.8571428656578064,\n",
       "  0.8452380895614624,\n",
       "  0.9166666865348816,\n",
       "  0.8809523582458496,\n",
       "  0.8095238208770752,\n",
       "  0.9285714030265808,\n",
       "  0.9047619104385376,\n",
       "  0.9047619104385376,\n",
       "  0.9166666865348816,\n",
       "  0.9166666865348816,\n",
       "  0.9166666865348816,\n",
       "  0.9166666865348816,\n",
       "  0.9047619104385376,\n",
       "  0.9285714030265808,\n",
       "  0.9166666865348816,\n",
       "  0.9285714030265808,\n",
       "  0.9404761791229248,\n",
       "  0.9047619104385376,\n",
       "  0.9166666865348816,\n",
       "  0.9166666865348816,\n",
       "  0.9166666865348816,\n",
       "  0.9404761791229248,\n",
       "  0.9166666865348816,\n",
       "  0.9166666865348816,\n",
       "  0.9523809552192688,\n",
       "  0.9404761791229248,\n",
       "  0.9523809552192688,\n",
       "  0.9523809552192688,\n",
       "  0.9047619104385376,\n",
       "  0.9404761791229248,\n",
       "  0.9047619104385376,\n",
       "  0.9166666865348816,\n",
       "  0.9523809552192688,\n",
       "  0.9404761791229248,\n",
       "  0.9285714030265808,\n",
       "  0.9642857313156128,\n",
       "  0.9166666865348816,\n",
       "  0.9285714030265808,\n",
       "  0.9285714030265808,\n",
       "  0.9285714030265808,\n",
       "  0.9642857313156128,\n",
       "  0.9404761791229248,\n",
       "  0.9404761791229248,\n",
       "  0.9642857313156128,\n",
       "  0.9404761791229248,\n",
       "  0.9642857313156128,\n",
       "  0.9523809552192688,\n",
       "  0.9404761791229248,\n",
       "  0.9404761791229248,\n",
       "  0.9523809552192688,\n",
       "  0.9523809552192688,\n",
       "  0.9523809552192688,\n",
       "  0.9404761791229248,\n",
       "  0.9404761791229248,\n",
       "  0.9285714030265808,\n",
       "  0.9642857313156128,\n",
       "  0.9404761791229248,\n",
       "  0.9404761791229248,\n",
       "  0.9523809552192688,\n",
       "  0.9404761791229248,\n",
       "  0.9523809552192688,\n",
       "  0.9523809552192688,\n",
       "  0.9404761791229248,\n",
       "  0.9523809552192688,\n",
       "  0.9404761791229248,\n",
       "  0.9523809552192688,\n",
       "  0.9523809552192688,\n",
       "  0.9642857313156128,\n",
       "  0.9523809552192688,\n",
       "  0.9404761791229248,\n",
       "  0.9523809552192688,\n",
       "  0.976190447807312],\n",
       " 'val_loss': [1.0109838247299194,\n",
       "  0.9684450626373291,\n",
       "  0.9313322901725769,\n",
       "  0.8989773988723755,\n",
       "  0.8693044185638428,\n",
       "  0.8383358120918274,\n",
       "  0.8084868788719177,\n",
       "  0.7795180082321167,\n",
       "  0.7535266876220703,\n",
       "  0.7317057847976685,\n",
       "  0.7093091607093811,\n",
       "  0.6887238025665283,\n",
       "  0.6688224077224731,\n",
       "  0.6484264731407166,\n",
       "  0.6281018257141113,\n",
       "  0.6098302602767944,\n",
       "  0.5927438735961914,\n",
       "  0.5797598958015442,\n",
       "  0.5615546107292175,\n",
       "  0.5452326536178589,\n",
       "  0.5350880026817322,\n",
       "  0.52448570728302,\n",
       "  0.5097149610519409,\n",
       "  0.49902236461639404,\n",
       "  0.48622334003448486,\n",
       "  0.4757905602455139,\n",
       "  0.46904414892196655,\n",
       "  0.45524781942367554,\n",
       "  0.44760096073150635,\n",
       "  0.43296560645103455,\n",
       "  0.42815861105918884,\n",
       "  0.41927430033683777,\n",
       "  0.40706586837768555,\n",
       "  0.3995598554611206,\n",
       "  0.3909616470336914,\n",
       "  0.38339707255363464,\n",
       "  0.3775020241737366,\n",
       "  0.3679026961326599,\n",
       "  0.36104336380958557,\n",
       "  0.3544737696647644,\n",
       "  0.34792062640190125,\n",
       "  0.34189674258232117,\n",
       "  0.33553293347358704,\n",
       "  0.32955202460289,\n",
       "  0.3312092423439026,\n",
       "  0.31720343232154846,\n",
       "  0.3123454451560974,\n",
       "  0.30898571014404297,\n",
       "  0.3002118468284607,\n",
       "  0.2991369664669037,\n",
       "  0.29926878213882446,\n",
       "  0.284108430147171,\n",
       "  0.27821511030197144,\n",
       "  0.2725684940814972,\n",
       "  0.26786836981773376,\n",
       "  0.2657472789287567,\n",
       "  0.25753098726272583,\n",
       "  0.25588929653167725,\n",
       "  0.2541276216506958,\n",
       "  0.24528662860393524,\n",
       "  0.24525918066501617,\n",
       "  0.25016358494758606,\n",
       "  0.23538845777511597,\n",
       "  0.2338240146636963,\n",
       "  0.23078486323356628,\n",
       "  0.22505095601081848,\n",
       "  0.22168663144111633,\n",
       "  0.22012317180633545,\n",
       "  0.21583262085914612,\n",
       "  0.2122296243906021,\n",
       "  0.21196883916854858,\n",
       "  0.2063492089509964,\n",
       "  0.20318394899368286,\n",
       "  0.20062144100666046,\n",
       "  0.19467701017856598,\n",
       "  0.1913110464811325,\n",
       "  0.1875077486038208,\n",
       "  0.18518993258476257,\n",
       "  0.1826135367155075,\n",
       "  0.18041346967220306,\n",
       "  0.17670667171478271,\n",
       "  0.17799785733222961,\n",
       "  0.1700170636177063,\n",
       "  0.1715058982372284,\n",
       "  0.16546282172203064,\n",
       "  0.1640755534172058,\n",
       "  0.1640007495880127,\n",
       "  0.1614578366279602,\n",
       "  0.15965396165847778,\n",
       "  0.15667064487934113,\n",
       "  0.1547549068927765,\n",
       "  0.1528763622045517,\n",
       "  0.15357495844364166,\n",
       "  0.14994290471076965,\n",
       "  0.148317351937294,\n",
       "  0.14681476354599,\n",
       "  0.14393995702266693,\n",
       "  0.1412280946969986,\n",
       "  0.1444474160671234,\n",
       "  0.14192284643650055],\n",
       " 'val_categorical_accuracy': [0.6388888955116272,\n",
       "  0.6388888955116272,\n",
       "  0.6388888955116272,\n",
       "  0.6388888955116272,\n",
       "  0.6388888955116272,\n",
       "  0.6388888955116272,\n",
       "  0.6388888955116272,\n",
       "  0.6388888955116272,\n",
       "  0.6388888955116272,\n",
       "  0.6388888955116272,\n",
       "  0.6388888955116272,\n",
       "  0.6388888955116272,\n",
       "  0.6388888955116272,\n",
       "  0.6388888955116272,\n",
       "  0.6388888955116272,\n",
       "  0.6388888955116272,\n",
       "  0.6388888955116272,\n",
       "  0.6388888955116272,\n",
       "  0.6666666865348816,\n",
       "  0.6944444179534912,\n",
       "  0.6666666865348816,\n",
       "  0.6666666865348816,\n",
       "  0.6944444179534912,\n",
       "  0.6944444179534912,\n",
       "  0.7777777910232544,\n",
       "  0.7777777910232544,\n",
       "  0.7222222089767456,\n",
       "  0.8055555820465088,\n",
       "  0.7777777910232544,\n",
       "  0.9166666865348816,\n",
       "  0.8333333134651184,\n",
       "  0.8333333134651184,\n",
       "  0.9166666865348816,\n",
       "  0.9166666865348816,\n",
       "  0.9722222089767456,\n",
       "  0.9166666865348816,\n",
       "  0.9166666865348816,\n",
       "  0.9166666865348816,\n",
       "  0.9722222089767456,\n",
       "  0.9722222089767456,\n",
       "  0.9722222089767456,\n",
       "  0.9722222089767456,\n",
       "  0.9166666865348816,\n",
       "  0.9166666865348816,\n",
       "  0.9166666865348816,\n",
       "  0.9722222089767456,\n",
       "  0.9722222089767456,\n",
       "  0.9166666865348816,\n",
       "  0.9722222089767456,\n",
       "  0.9166666865348816,\n",
       "  0.9166666865348816,\n",
       "  0.9722222089767456,\n",
       "  0.9722222089767456,\n",
       "  0.9722222089767456,\n",
       "  0.9722222089767456,\n",
       "  0.9722222089767456,\n",
       "  0.9722222089767456,\n",
       "  0.9722222089767456,\n",
       "  0.9722222089767456,\n",
       "  0.9722222089767456,\n",
       "  0.9722222089767456,\n",
       "  0.9166666865348816,\n",
       "  0.9722222089767456,\n",
       "  0.9722222089767456,\n",
       "  0.9722222089767456,\n",
       "  0.9722222089767456,\n",
       "  0.9722222089767456,\n",
       "  0.9722222089767456,\n",
       "  1.0,\n",
       "  1.0,\n",
       "  0.9444444179534912,\n",
       "  1.0,\n",
       "  0.9722222089767456,\n",
       "  0.9722222089767456,\n",
       "  1.0,\n",
       "  0.9722222089767456,\n",
       "  0.9722222089767456,\n",
       "  0.9722222089767456,\n",
       "  1.0,\n",
       "  0.9722222089767456,\n",
       "  1.0,\n",
       "  0.9722222089767456,\n",
       "  0.9722222089767456,\n",
       "  0.9722222089767456,\n",
       "  0.9722222089767456,\n",
       "  0.9722222089767456,\n",
       "  0.9722222089767456,\n",
       "  0.9722222089767456,\n",
       "  1.0,\n",
       "  0.9722222089767456,\n",
       "  0.9722222089767456,\n",
       "  0.9722222089767456,\n",
       "  0.9722222089767456,\n",
       "  1.0,\n",
       "  1.0,\n",
       "  1.0,\n",
       "  0.9722222089767456,\n",
       "  0.9722222089767456,\n",
       "  0.9722222089767456,\n",
       "  1.0]}"
      ]
     },
     "execution_count": 28,
     "metadata": {},
     "output_type": "execute_result"
    }
   ],
   "source": [
    "historico.history"
   ]
  },
  {
   "cell_type": "code",
   "execution_count": 29,
   "id": "4184ee75-7d7a-4276-994a-33f19d95a9b4",
   "metadata": {},
   "outputs": [
    {
     "data": {
      "image/png": "[encoded data removed]",
      "text/plain": [
       "<Figure size 640x480 with 1 Axes>"
      ]
     },
     "metadata": {},
     "output_type": "display_data"
    }
   ],
   "source": [
    "import pandas as pd\n",
    "\n",
    "pd.DataFrame(historico.history).plot()\n",
    "plt.grid()\n",
    "plt.show()"
   ]
  },
  {
   "cell_type": "code",
   "execution_count": 30,
   "id": "7b72b650-f7da-49be-8253-5f6645015592",
   "metadata": {},
   "outputs": [
    {
     "data": {
      "image/png": "[encoded data removed]",
      "text/plain": [
       "<Figure size 1400x500 with 2 Axes>"
      ]
     },
     "metadata": {},
     "output_type": "display_data"
    }
   ],
   "source": [
    "fig, ax = plt.subplots(1,2, figsize=(14,5))\n",
    "ax[0].plot(historico.history['loss'], color='#111487', linewidth=3, label=\"Perda de treinamento\")\n",
    "ax[0].plot(historico.history['val_loss'], color='#EFA316', linewidth=3, label=\"Perda da validação\",axes =ax[0])\n",
    "legend = ax[0].legend(loc='best', shadow=True)\n",
    "\n",
    "ax[1].plot(historico.history['categorical_accuracy'], color='#111487', linewidth=3, label=\"Acurácia de treinamento\")\n",
    "ax[1].plot(historico.history['val_categorical_accuracy'], color='#EFA316', linewidth=3, label=\"Acurácia de validação\")\n",
    "legend = ax[1].legend(loc='best', shadow=True)\n",
    "\n",
    "plt.suptitle('Desempenho do treinamento', fontsize = 18)\n",
    "plt.show()"
   ]
  },
  {
   "cell_type": "code",
   "execution_count": 31,
   "id": "97c8e3ca-0118-4172-82e2-ee728f1c7a8f",
   "metadata": {},
   "outputs": [
    {
     "name": "stdout",
     "output_type": "stream",
     "text": [
      "1/1 [==============================] - 0s 43ms/step - loss: 0.1586 - categorical_accuracy: 0.9667\n"
     ]
    },
    {
     "data": {
      "text/plain": [
       "[0.15860314667224884, 0.9666666388511658]"
      ]
     },
     "execution_count": 31,
     "metadata": {},
     "output_type": "execute_result"
    }
   ],
   "source": [
    "modelo.evaluate(x_teste,y_teste)"
   ]
  },
  {
   "cell_type": "code",
   "execution_count": 32,
   "id": "60a56b59-6158-4cd4-8987-9173b54ba277",
   "metadata": {},
   "outputs": [
    {
     "name": "stdout",
     "output_type": "stream",
     "text": [
      "1/1 [==============================] - 0s 210ms/step\n"
     ]
    },
    {
     "data": {
      "text/plain": [
       "array([[3.4220910e-05, 1.5713972e-01, 8.4282607e-01]], dtype=float32)"
      ]
     },
     "execution_count": 32,
     "metadata": {},
     "output_type": "execute_result"
    }
   ],
   "source": [
    "modelo.predict([[0.61, 0.5, 0.69, 0.79]])"
   ]
  },
  {
   "cell_type": "code",
   "execution_count": null,
   "id": "b3684562-8141-4a23-ab2e-6c4af9dbb81c",
   "metadata": {},
   "outputs": [],
   "source": []
  }
 ],
 "metadata": {
  "kernelspec": {
   "display_name": "Python 3 (ipykernel)",
   "language": "python",
   "name": "python3"
  },
  "language_info": {
   "codemirror_mode": {
    "name": "ipython",
    "version": 3
   },
   "file_extension": ".py",
   "mimetype": "text/x-python",
   "name": "python",
   "nbconvert_exporter": "python",
   "pygments_lexer": "ipython3",
   "version": "3.10.13"
  }
 },
 "nbformat": 4,
 "nbformat_minor": 5
}
